{
 "cells": [
  {
   "cell_type": "code",
   "execution_count": 2,
   "metadata": {
    "executionInfo": {
     "elapsed": 3796,
     "status": "ok",
     "timestamp": 1618446799136,
     "user": {
      "displayName": "Nick Fragakis",
      "photoUrl": "",
      "userId": "14651482387246453772"
     },
     "user_tz": 300
    },
    "id": "3MpakhmYJJGs"
   },
   "outputs": [],
   "source": [
    "from fastai.vision import *\n",
    "from fastai.vision.all import *\n",
    "import pandas as pd\n",
    "import numpy as np\n",
    "from PIL import Image\n",
    "import os"
   ]
  },
  {
   "cell_type": "code",
   "execution_count": 5,
   "metadata": {
    "executionInfo": {
     "elapsed": 2023,
     "status": "ok",
     "timestamp": 1618446835719,
     "user": {
      "displayName": "Nick Fragakis",
      "photoUrl": "",
      "userId": "14651482387246453772"
     },
     "user_tz": 300
    },
    "id": "VJ1BtXHzM144"
   },
   "outputs": [],
   "source": [
    "df = pd.read_csv('updated_2018_detections')"
   ]
  },
  {
   "cell_type": "code",
   "execution_count": 6,
   "metadata": {
    "executionInfo": {
     "elapsed": 432,
     "status": "ok",
     "timestamp": 1618446837808,
     "user": {
      "displayName": "Nick Fragakis",
      "photoUrl": "",
      "userId": "14651482387246453772"
     },
     "user_tz": 300
    },
    "id": "EstB6nQ25gaW"
   },
   "outputs": [],
   "source": [
    "train = df[df['Location'] == 'CHIL - R']"
   ]
  },
  {
   "cell_type": "code",
   "execution_count": 7,
   "metadata": {
    "executionInfo": {
     "elapsed": 233,
     "status": "ok",
     "timestamp": 1618446838739,
     "user": {
      "displayName": "Nick Fragakis",
      "photoUrl": "",
      "userId": "14651482387246453772"
     },
     "user_tz": 300
    },
    "id": "akCdV89KXxuC"
   },
   "outputs": [],
   "source": [
    "def get_data(sz, bs):\n",
    "    \"\"\"\n",
    "      Function to iterate a new dataloader with progressive\n",
    "        image resizing\n",
    "\n",
    "      sz = Image size \n",
    "      bs = Batch size\n",
    "      \"\"\"\n",
    "    tfms = [Resize(sz, method='pad'),\n",
    "            Normalize.from_stats(*imagenet_stats),\n",
    "            *aug_transforms(do_flip=False, size=sz)]\n",
    "  \n",
    "    dblock = DataBlock(\n",
    "        blocks=(ImageBlock, CategoryBlock),      \n",
    "        getters=[ColReader('Directory', pref='images/'),   # image input\n",
    "                 ColReader('ShortName')],\n",
    "        splitter=TrainTestSplitter(test_size=.2, random_state=42, stratify=train['ShortName']),\n",
    "        batch_tfms=tfms\n",
    "    )\n",
    "    \n",
    "    dls = dblock.dataloaders(train, bs=bs)\n",
    "    dls = dls.cuda()\n",
    "    return dls"
   ]
  },
  {
   "cell_type": "code",
   "execution_count": 8,
   "metadata": {
    "executionInfo": {
     "elapsed": 256,
     "status": "ok",
     "timestamp": 1618446840417,
     "user": {
      "displayName": "Nick Fragakis",
      "photoUrl": "",
      "userId": "14651482387246453772"
     },
     "user_tz": 300
    },
    "id": "C36Cs1uH2Pij"
   },
   "outputs": [],
   "source": [
    "def img_resize_training(sizes):\n",
    "    for i, im_size in enumerate(sizes):\n",
    "        # scale down batch size as im_size increases\n",
    "        bs = int(2048 / im_size)\n",
    "        dls = get_data(im_size, bs)\n",
    "    \n",
    "        # Train fresh model at start then progressively load weights\n",
    "        if i == 0:\n",
    "            learn = cnn_learner(dls, models.resnet50, metrics=[error_rate, accuracy])\n",
    "            learn.model = learn.model.cuda()\n",
    "      \n",
    "        else:\n",
    "            learn = cnn_learner(dls, models.resnet50, metrics=[error_rate, accuracy])\n",
    "            learn.load('res50_' + str(sizes[i-1]))\n",
    "            learn.model = learn.model.cuda()\n",
    "      \n",
    "        # train final class layers\n",
    "        learn.fit_one_cycle(6*(i+1))\n",
    "\n",
    "        ## i + to 1\n",
    "        # unfreeze and train whole network\n",
    "        learn.fine_tune(2*(i+1))\n",
    "\n",
    "        # save model \n",
    "        learn.save('res50_'+ str(sizes[i]))\n",
    "        \n",
    "    return learn"
   ]
  },
  {
   "cell_type": "code",
   "execution_count": null,
   "metadata": {
    "colab": {
     "base_uri": "https://localhost:8080/",
     "height": 536,
     "referenced_widgets": [
      "973b41b8d1874c51a6b634f5ed87ca5f",
      "0dcbd51a9039489795cd0ec9b9c4eb21",
      "61660cccb5e94d93b62fc4001005208b",
      "8d780500889547a1828b298be43ca73b",
      "e67d8499f6dc4db89763d9deeb491134",
      "e9724dae232d4d96b03ff88d76c28837",
      "559a2db6deaa470682a58a2822e2f39a",
      "25282388267e4fa4aaa08e91e9f7d077"
     ]
    },
    "id": "PWNyZB_2ecME",
    "outputId": "7053979d-4534-4a43-8b08-c6f325841921"
   },
   "outputs": [
    {
     "name": "stderr",
     "output_type": "stream",
     "text": [
      "Downloading: \"https://download.pytorch.org/models/resnet50-19c8e357.pth\" to /root/.cache/torch/hub/checkpoints/resnet50-19c8e357.pth\n"
     ]
    },
    {
     "data": {
      "application/vnd.jupyter.widget-view+json": {
       "model_id": "973b41b8d1874c51a6b634f5ed87ca5f",
       "version_major": 2,
       "version_minor": 0
      },
      "text/plain": [
       "HBox(children=(FloatProgress(value=0.0, max=102502400.0), HTML(value='')))"
      ]
     },
     "metadata": {
      "tags": []
     },
     "output_type": "display_data"
    },
    {
     "name": "stdout",
     "output_type": "stream",
     "text": [
      "\n"
     ]
    },
    {
     "data": {
      "text/html": [
       "<table border=\"1\" class=\"dataframe\">\n",
       "  <thead>\n",
       "    <tr style=\"text-align: left;\">\n",
       "      <th>epoch</th>\n",
       "      <th>train_loss</th>\n",
       "      <th>valid_loss</th>\n",
       "      <th>error_rate</th>\n",
       "      <th>accuracy</th>\n",
       "      <th>time</th>\n",
       "    </tr>\n",
       "  </thead>\n",
       "  <tbody>\n",
       "    <tr>\n",
       "      <td>0</td>\n",
       "      <td>1.428653</td>\n",
       "      <td>1.027039</td>\n",
       "      <td>0.304542</td>\n",
       "      <td>0.695458</td>\n",
       "      <td>55:42</td>\n",
       "    </tr>\n",
       "    <tr>\n",
       "      <td>1</td>\n",
       "      <td>0.908010</td>\n",
       "      <td>0.732367</td>\n",
       "      <td>0.264193</td>\n",
       "      <td>0.735807</td>\n",
       "      <td>03:31</td>\n",
       "    </tr>\n",
       "    <tr>\n",
       "      <td>2</td>\n",
       "      <td>0.762595</td>\n",
       "      <td>0.673257</td>\n",
       "      <td>0.245945</td>\n",
       "      <td>0.754055</td>\n",
       "      <td>03:28</td>\n",
       "    </tr>\n",
       "    <tr>\n",
       "      <td>3</td>\n",
       "      <td>0.687683</td>\n",
       "      <td>0.627905</td>\n",
       "      <td>0.233374</td>\n",
       "      <td>0.766626</td>\n",
       "      <td>03:29</td>\n",
       "    </tr>\n",
       "    <tr>\n",
       "      <td>4</td>\n",
       "      <td>0.643718</td>\n",
       "      <td>0.606416</td>\n",
       "      <td>0.231549</td>\n",
       "      <td>0.768451</td>\n",
       "      <td>03:28</td>\n",
       "    </tr>\n",
       "    <tr>\n",
       "      <td>5</td>\n",
       "      <td>0.635471</td>\n",
       "      <td>0.600692</td>\n",
       "      <td>0.227494</td>\n",
       "      <td>0.772506</td>\n",
       "      <td>03:28</td>\n",
       "    </tr>\n",
       "  </tbody>\n",
       "</table>"
      ],
      "text/plain": [
       "<IPython.core.display.HTML object>"
      ]
     },
     "metadata": {
      "tags": []
     },
     "output_type": "display_data"
    },
    {
     "data": {
      "text/html": [
       "<table border=\"1\" class=\"dataframe\">\n",
       "  <thead>\n",
       "    <tr style=\"text-align: left;\">\n",
       "      <th>epoch</th>\n",
       "      <th>train_loss</th>\n",
       "      <th>valid_loss</th>\n",
       "      <th>error_rate</th>\n",
       "      <th>accuracy</th>\n",
       "      <th>time</th>\n",
       "    </tr>\n",
       "  </thead>\n",
       "  <tbody>\n",
       "    <tr>\n",
       "      <td>0</td>\n",
       "      <td>0.705064</td>\n",
       "      <td>0.662230</td>\n",
       "      <td>0.241484</td>\n",
       "      <td>0.758516</td>\n",
       "      <td>03:30</td>\n",
       "    </tr>\n",
       "  </tbody>\n",
       "</table>"
      ],
      "text/plain": [
       "<IPython.core.display.HTML object>"
      ]
     },
     "metadata": {
      "tags": []
     },
     "output_type": "display_data"
    },
    {
     "data": {
      "text/html": [
       "<table border=\"1\" class=\"dataframe\">\n",
       "  <thead>\n",
       "    <tr style=\"text-align: left;\">\n",
       "      <th>epoch</th>\n",
       "      <th>train_loss</th>\n",
       "      <th>valid_loss</th>\n",
       "      <th>error_rate</th>\n",
       "      <th>accuracy</th>\n",
       "      <th>time</th>\n",
       "    </tr>\n",
       "  </thead>\n",
       "  <tbody>\n",
       "    <tr>\n",
       "      <td>0</td>\n",
       "      <td>0.699276</td>\n",
       "      <td>0.610075</td>\n",
       "      <td>0.226683</td>\n",
       "      <td>0.773317</td>\n",
       "      <td>03:33</td>\n",
       "    </tr>\n",
       "    <tr>\n",
       "      <td>1</td>\n",
       "      <td>0.540464</td>\n",
       "      <td>0.540639</td>\n",
       "      <td>0.198500</td>\n",
       "      <td>0.801500</td>\n",
       "      <td>03:33</td>\n",
       "    </tr>\n",
       "  </tbody>\n",
       "</table>"
      ],
      "text/plain": [
       "<IPython.core.display.HTML object>"
      ]
     },
     "metadata": {
      "tags": []
     },
     "output_type": "display_data"
    },
    {
     "data": {
      "text/html": [
       "\n",
       "    <div>\n",
       "        <style>\n",
       "            /* Turns off some styling */\n",
       "            progress {\n",
       "                /* gets rid of default border in Firefox and Opera. */\n",
       "                border: none;\n",
       "                /* Needs to be in here for Safari polyfill so background images work as expected. */\n",
       "                background-size: auto;\n",
       "            }\n",
       "            .progress-bar-interrupted, .progress-bar-interrupted::-webkit-progress-bar {\n",
       "                background: #F44336;\n",
       "            }\n",
       "        </style>\n",
       "      <progress value='0' class='' max='12' style='width:300px; height:20px; vertical-align: middle;'></progress>\n",
       "      0.00% [0/12 00:00<00:00]\n",
       "    </div>\n",
       "    \n",
       "<table border=\"1\" class=\"dataframe\">\n",
       "  <thead>\n",
       "    <tr style=\"text-align: left;\">\n",
       "      <th>epoch</th>\n",
       "      <th>train_loss</th>\n",
       "      <th>valid_loss</th>\n",
       "      <th>error_rate</th>\n",
       "      <th>accuracy</th>\n",
       "      <th>time</th>\n",
       "    </tr>\n",
       "  </thead>\n",
       "  <tbody>\n",
       "  </tbody>\n",
       "</table><p>\n",
       "\n",
       "    <div>\n",
       "        <style>\n",
       "            /* Turns off some styling */\n",
       "            progress {\n",
       "                /* gets rid of default border in Firefox and Opera. */\n",
       "                border: none;\n",
       "                /* Needs to be in here for Safari polyfill so background images work as expected. */\n",
       "                background-size: auto;\n",
       "            }\n",
       "            .progress-bar-interrupted, .progress-bar-interrupted::-webkit-progress-bar {\n",
       "                background: #F44336;\n",
       "            }\n",
       "        </style>\n",
       "      <progress value='605' class='' max='1232' style='width:300px; height:20px; vertical-align: middle;'></progress>\n",
       "      49.11% [605/1232 01:32<01:35 0.7303]\n",
       "    </div>\n",
       "    "
      ],
      "text/plain": [
       "<IPython.core.display.HTML object>"
      ]
     },
     "metadata": {
      "tags": []
     },
     "output_type": "display_data"
    }
   ],
   "source": [
    "sizes = [64, 128, 256, 512]\n",
    "learn = img_resize_training(sizes)"
   ]
  },
  {
   "cell_type": "code",
   "execution_count": null,
   "metadata": {
    "id": "yFW0-b2f8KEA"
   },
   "outputs": [],
   "source": [
    "dls = get_data(256, 32)\n",
    "learn = cnn_learner(dls, models.resnet50, metrics=[error_rate, accuracy]).load('res50_512')"
   ]
  },
  {
   "cell_type": "code",
   "execution_count": null,
   "metadata": {
    "id": "nf16bK37ALGP"
   },
   "outputs": [],
   "source": [
    "learn.lr_find()"
   ]
  },
  {
   "cell_type": "code",
   "execution_count": null,
   "metadata": {
    "colab": {
     "base_uri": "https://localhost:8080/",
     "height": 204
    },
    "executionInfo": {
     "elapsed": 3614463,
     "status": "ok",
     "timestamp": 1610133555123,
     "user": {
      "displayName": "Nick Fragakis",
      "photoUrl": "",
      "userId": "14651482387246453772"
     },
     "user_tz": 360
    },
    "id": "bkD79-cUAVMu",
    "outputId": "96ba823a-83f0-4eb3-963a-2f07c36f7f4d"
   },
   "outputs": [
    {
     "data": {
      "text/html": [
       "<table border=\"1\" class=\"dataframe\">\n",
       "  <thead>\n",
       "    <tr style=\"text-align: left;\">\n",
       "      <th>epoch</th>\n",
       "      <th>train_loss</th>\n",
       "      <th>valid_loss</th>\n",
       "      <th>error_rate</th>\n",
       "      <th>accuracy</th>\n",
       "      <th>time</th>\n",
       "    </tr>\n",
       "  </thead>\n",
       "  <tbody>\n",
       "    <tr>\n",
       "      <td>0</td>\n",
       "      <td>0.543453</td>\n",
       "      <td>0.506158</td>\n",
       "      <td>0.163017</td>\n",
       "      <td>0.836983</td>\n",
       "      <td>45:57</td>\n",
       "    </tr>\n",
       "    <tr>\n",
       "      <td>1</td>\n",
       "      <td>0.494445</td>\n",
       "      <td>0.452380</td>\n",
       "      <td>0.144566</td>\n",
       "      <td>0.855434</td>\n",
       "      <td>03:37</td>\n",
       "    </tr>\n",
       "    <tr>\n",
       "      <td>2</td>\n",
       "      <td>0.407986</td>\n",
       "      <td>0.444337</td>\n",
       "      <td>0.140916</td>\n",
       "      <td>0.859084</td>\n",
       "      <td>03:33</td>\n",
       "    </tr>\n",
       "    <tr>\n",
       "      <td>3</td>\n",
       "      <td>0.435706</td>\n",
       "      <td>0.449255</td>\n",
       "      <td>0.133414</td>\n",
       "      <td>0.866586</td>\n",
       "      <td>03:32</td>\n",
       "    </tr>\n",
       "    <tr>\n",
       "      <td>4</td>\n",
       "      <td>0.466051</td>\n",
       "      <td>0.435616</td>\n",
       "      <td>0.134023</td>\n",
       "      <td>0.865977</td>\n",
       "      <td>03:32</td>\n",
       "    </tr>\n",
       "  </tbody>\n",
       "</table>"
      ],
      "text/plain": [
       "<IPython.core.display.HTML object>"
      ]
     },
     "metadata": {
      "tags": []
     },
     "output_type": "display_data"
    }
   ],
   "source": [
    "learn.fit_one_cycle(5, 1e-4)"
   ]
  },
  {
   "cell_type": "code",
   "execution_count": null,
   "metadata": {
    "colab": {
     "base_uri": "https://localhost:8080/",
     "height": 267
    },
    "executionInfo": {
     "elapsed": 1310708,
     "status": "ok",
     "timestamp": 1610134930128,
     "user": {
      "displayName": "Nick Fragakis",
      "photoUrl": "",
      "userId": "14651482387246453772"
     },
     "user_tz": 360
    },
    "id": "_fxM2i_HAYiK",
    "outputId": "99644bc9-8836-4019-915b-51a36aa30545"
   },
   "outputs": [
    {
     "data": {
      "text/html": [
       "<table border=\"1\" class=\"dataframe\">\n",
       "  <thead>\n",
       "    <tr style=\"text-align: left;\">\n",
       "      <th>epoch</th>\n",
       "      <th>train_loss</th>\n",
       "      <th>valid_loss</th>\n",
       "      <th>error_rate</th>\n",
       "      <th>accuracy</th>\n",
       "      <th>time</th>\n",
       "    </tr>\n",
       "  </thead>\n",
       "  <tbody>\n",
       "    <tr>\n",
       "      <td>0</td>\n",
       "      <td>0.449095</td>\n",
       "      <td>0.414026</td>\n",
       "      <td>0.133617</td>\n",
       "      <td>0.866383</td>\n",
       "      <td>03:33</td>\n",
       "    </tr>\n",
       "  </tbody>\n",
       "</table>"
      ],
      "text/plain": [
       "<IPython.core.display.HTML object>"
      ]
     },
     "metadata": {
      "tags": []
     },
     "output_type": "display_data"
    },
    {
     "data": {
      "text/html": [
       "<table border=\"1\" class=\"dataframe\">\n",
       "  <thead>\n",
       "    <tr style=\"text-align: left;\">\n",
       "      <th>epoch</th>\n",
       "      <th>train_loss</th>\n",
       "      <th>valid_loss</th>\n",
       "      <th>error_rate</th>\n",
       "      <th>accuracy</th>\n",
       "      <th>time</th>\n",
       "    </tr>\n",
       "  </thead>\n",
       "  <tbody>\n",
       "    <tr>\n",
       "      <td>0</td>\n",
       "      <td>0.425954</td>\n",
       "      <td>0.369242</td>\n",
       "      <td>0.118613</td>\n",
       "      <td>0.881387</td>\n",
       "      <td>03:40</td>\n",
       "    </tr>\n",
       "    <tr>\n",
       "      <td>1</td>\n",
       "      <td>0.376270</td>\n",
       "      <td>0.371152</td>\n",
       "      <td>0.119019</td>\n",
       "      <td>0.880981</td>\n",
       "      <td>03:39</td>\n",
       "    </tr>\n",
       "    <tr>\n",
       "      <td>2</td>\n",
       "      <td>0.342822</td>\n",
       "      <td>0.327091</td>\n",
       "      <td>0.103812</td>\n",
       "      <td>0.896188</td>\n",
       "      <td>03:39</td>\n",
       "    </tr>\n",
       "    <tr>\n",
       "      <td>3</td>\n",
       "      <td>0.290495</td>\n",
       "      <td>0.316501</td>\n",
       "      <td>0.102393</td>\n",
       "      <td>0.897607</td>\n",
       "      <td>03:39</td>\n",
       "    </tr>\n",
       "    <tr>\n",
       "      <td>4</td>\n",
       "      <td>0.263170</td>\n",
       "      <td>0.315613</td>\n",
       "      <td>0.103406</td>\n",
       "      <td>0.896594</td>\n",
       "      <td>03:39</td>\n",
       "    </tr>\n",
       "  </tbody>\n",
       "</table>"
      ],
      "text/plain": [
       "<IPython.core.display.HTML object>"
      ]
     },
     "metadata": {
      "tags": []
     },
     "output_type": "display_data"
    }
   ],
   "source": [
    "learn.fine_tune(5)"
   ]
  },
  {
   "cell_type": "code",
   "execution_count": null,
   "metadata": {
    "colab": {
     "base_uri": "https://localhost:8080/",
     "height": 17
    },
    "executionInfo": {
     "elapsed": 1265910,
     "status": "ok",
     "timestamp": 1610134975962,
     "user": {
      "displayName": "Nick Fragakis",
      "photoUrl": "",
      "userId": "14651482387246453772"
     },
     "user_tz": 360
    },
    "id": "Lmwti8SIFv7D",
    "outputId": "98b3c6de-1b5f-4063-b1ba-937878e9b9f5"
   },
   "outputs": [
    {
     "data": {
      "text/html": [],
      "text/plain": [
       "<IPython.core.display.HTML object>"
      ]
     },
     "metadata": {
      "tags": []
     },
     "output_type": "display_data"
    }
   ],
   "source": [
    "interp = ClassificationInterpretation.from_learner(learn)"
   ]
  },
  {
   "cell_type": "code",
   "execution_count": null,
   "metadata": {
    "colab": {
     "base_uri": "https://localhost:8080/"
    },
    "executionInfo": {
     "elapsed": 1265557,
     "status": "ok",
     "timestamp": 1610134975964,
     "user": {
      "displayName": "Nick Fragakis",
      "photoUrl": "",
      "userId": "14651482387246453772"
     },
     "user_tz": 360
    },
    "id": "AKt5dmiZcj-I",
    "outputId": "b47e2707-5976-4081-c52d-39651254f489"
   },
   "outputs": [
    {
     "name": "stdout",
     "output_type": "stream",
     "text": [
      "               precision    recall  f1-score   support\n",
      "\n",
      "         bird       0.79      0.51      0.62       171\n",
      "          cat       0.36      0.27      0.31        15\n",
      "       coyote       0.83      0.72      0.77        61\n",
      "          dog       0.61      0.54      0.58        35\n",
      "e. cottontail       0.81      0.70      0.75       134\n",
      "        empty       0.92      0.97      0.94      3287\n",
      "        human       0.91      0.88      0.89       295\n",
      "   lawn mower       1.00      0.25      0.40         8\n",
      "      raccoon       0.89      0.93      0.91       347\n",
      "          rat       0.00      0.00      0.00         8\n",
      "     squirrel       0.81      0.66      0.73       386\n",
      "striped skunk       0.92      0.86      0.89        14\n",
      "   v. opossum       0.74      0.63      0.68        59\n",
      "   w. t. deer       0.89      0.82      0.86       112\n",
      "\n",
      "     accuracy                           0.90      4932\n",
      "    macro avg       0.75      0.62      0.67      4932\n",
      " weighted avg       0.89      0.90      0.89      4932\n",
      "\n"
     ]
    },
    {
     "name": "stderr",
     "output_type": "stream",
     "text": [
      "/usr/local/lib/python3.6/dist-packages/sklearn/metrics/_classification.py:1272: UndefinedMetricWarning: Precision and F-score are ill-defined and being set to 0.0 in labels with no predicted samples. Use `zero_division` parameter to control this behavior.\n",
      "  _warn_prf(average, modifier, msg_start, len(result))\n"
     ]
    }
   ],
   "source": [
    "interp.print_classification_report()"
   ]
  },
  {
   "cell_type": "code",
   "execution_count": null,
   "metadata": {
    "colab": {
     "base_uri": "https://localhost:8080/",
     "height": 311
    },
    "executionInfo": {
     "elapsed": 1266607,
     "status": "ok",
     "timestamp": 1610134977343,
     "user": {
      "displayName": "Nick Fragakis",
      "photoUrl": "",
      "userId": "14651482387246453772"
     },
     "user_tz": 360
    },
    "id": "-o-VL52UGP2w",
    "outputId": "68e701e8-0dd9-48f8-bc08-c16cf1fc6937"
   },
   "outputs": [
    {
     "data": {
      "image/png": "[encoded data removed]",
      "text/plain": [
       "<Figure size 432x288 with 1 Axes>"
      ]
     },
     "metadata": {
      "needs_background": "light",
      "tags": []
     },
     "output_type": "display_data"
    }
   ],
   "source": [
    "interp.plot_confusion_matrix()"
   ]
  },
  {
   "cell_type": "code",
   "execution_count": null,
   "metadata": {
    "colab": {
     "base_uri": "https://localhost:8080/"
    },
    "executionInfo": {
     "elapsed": 1266233,
     "status": "ok",
     "timestamp": 1610134977343,
     "user": {
      "displayName": "Nick Fragakis",
      "photoUrl": "",
      "userId": "14651482387246453772"
     },
     "user_tz": 360
    },
    "id": "41NDiQGfWZ_p",
    "outputId": "f4710c88-a41c-4460-9f42-41182d25160d"
   },
   "outputs": [
    {
     "data": {
      "text/plain": [
       "[('squirrel', 'empty', 114),\n",
       " ('bird', 'empty', 73),\n",
       " ('empty', 'squirrel', 29),\n",
       " ('human', 'empty', 26),\n",
       " ('e. cottontail', 'empty', 25),\n",
       " ('empty', 'bird', 17),\n",
       " ('empty', 'raccoon', 16),\n",
       " ('raccoon', 'empty', 12),\n",
       " ('dog', 'human', 10),\n",
       " ('v. opossum', 'empty', 10),\n",
       " ('w. t. deer', 'empty', 10),\n",
       " ('e. cottontail', 'squirrel', 9),\n",
       " ('empty', 'human', 9),\n",
       " ('empty', 'e. cottontail', 8),\n",
       " ('rat', 'empty', 8),\n",
       " ('v. opossum', 'raccoon', 8),\n",
       " ('bird', 'squirrel', 7),\n",
       " ('coyote', 'raccoon', 7),\n",
       " ('lawn mower', 'human', 6),\n",
       " ('cat', 'raccoon', 5),\n",
       " ('empty', 'v. opossum', 5),\n",
       " ('empty', 'w. t. deer', 5),\n",
       " ('squirrel', 'bird', 5),\n",
       " ('squirrel', 'e. cottontail', 5),\n",
       " ('w. t. deer', 'squirrel', 5),\n",
       " ('coyote', 'empty', 4),\n",
       " ('coyote', 'dog', 3),\n",
       " ('dog', 'empty', 3),\n",
       " ('empty', 'coyote', 3),\n",
       " ('human', 'dog', 3),\n",
       " ('human', 'squirrel', 3),\n",
       " ('raccoon', 'cat', 3),\n",
       " ('raccoon', 'coyote', 3),\n",
       " ('raccoon', 'e. cottontail', 3),\n",
       " ('bird', 'dog', 2),\n",
       " ('cat', 'dog', 2),\n",
       " ('e. cottontail', 'raccoon', 2),\n",
       " ('e. cottontail', 'v. opossum', 2),\n",
       " ('raccoon', 'squirrel', 2),\n",
       " ('squirrel', 'cat', 2),\n",
       " ('striped skunk', 'v. opossum', 2),\n",
       " ('v. opossum', 'e. cottontail', 2),\n",
       " ('v. opossum', 'squirrel', 2),\n",
       " ('w. t. deer', 'coyote', 2),\n",
       " ('w. t. deer', 'e. cottontail', 2),\n",
       " ('bird', 'e. cottontail', 1),\n",
       " ('cat', 'bird', 1),\n",
       " ('cat', 'empty', 1),\n",
       " ('cat', 'v. opossum', 1),\n",
       " ('cat', 'w. t. deer', 1),\n",
       " ('coyote', 'cat', 1),\n",
       " ('coyote', 'squirrel', 1),\n",
       " ('coyote', 'w. t. deer', 1),\n",
       " ('dog', 'coyote', 1),\n",
       " ('dog', 'squirrel', 1),\n",
       " ('dog', 'w. t. deer', 1),\n",
       " ('e. cottontail', 'bird', 1),\n",
       " ('e. cottontail', 'w. t. deer', 1),\n",
       " ('empty', 'cat', 1),\n",
       " ('empty', 'dog', 1),\n",
       " ('human', 'e. cottontail', 1),\n",
       " ('human', 'v. opossum', 1),\n",
       " ('human', 'w. t. deer', 1),\n",
       " ('raccoon', 'dog', 1),\n",
       " ('raccoon', 'v. opossum', 1),\n",
       " ('squirrel', 'human', 1),\n",
       " ('squirrel', 'raccoon', 1),\n",
       " ('squirrel', 'striped skunk', 1),\n",
       " ('squirrel', 'v. opossum', 1),\n",
       " ('squirrel', 'w. t. deer', 1),\n",
       " ('w. t. deer', 'human', 1)]"
      ]
     },
     "execution_count": 15,
     "metadata": {
      "tags": []
     },
     "output_type": "execute_result"
    }
   ],
   "source": [
    "interp.most_confused()\n",
    "# actual, predicted"
   ]
  },
  {
   "cell_type": "code",
   "execution_count": null,
   "metadata": {
    "id": "iqrmN03E8UJF"
   },
   "outputs": [],
   "source": []
  }
 ],
 "metadata": {
  "accelerator": "GPU",
  "colab": {
   "machine_shape": "hm",
   "name": "Classification (R) w resizing.ipynb",
   "provenance": []
  },
  "kernelspec": {
   "display_name": "Python 3",
   "language": "python",
   "name": "python3"
  },
  "language_info": {
   "codemirror_mode": {
    "name": "ipython",
    "version": 3
   },
   "file_extension": ".py",
   "mimetype": "text/x-python",
   "name": "python",
   "nbconvert_exporter": "python",
   "pygments_lexer": "ipython3",
   "version": "3.7.3"
  },
  "widgets": {
   "application/vnd.jupyter.widget-state+json": {
    "0dcbd51a9039489795cd0ec9b9c4eb21": {
     "model_module": "@jupyter-widgets/base",
     "model_name": "LayoutModel",
     "state": {
      "_model_module": "@jupyter-widgets/base",
      "_model_module_version": "1.2.0",
      "_model_name": "LayoutModel",
      "_view_count": null,
      "_view_module": "@jupyter-widgets/base",
      "_view_module_version": "1.2.0",
      "_view_name": "LayoutView",
      "align_content": null,
      "align_items": null,
      "align_self": null,
      "border": null,
      "bottom": null,
      "display": null,
      "flex": null,
      "flex_flow": null,
      "grid_area": null,
      "grid_auto_columns": null,
      "grid_auto_flow": null,
      "grid_auto_rows": null,
      "grid_column": null,
      "grid_gap": null,
      "grid_row": null,
      "grid_template_areas": null,
      "grid_template_columns": null,
      "grid_template_rows": null,
      "height": null,
      "justify_content": null,
      "justify_items": null,
      "left": null,
      "margin": null,
      "max_height": null,
      "max_width": null,
      "min_height": null,
      "min_width": null,
      "object_fit": null,
      "object_position": null,
      "order": null,
      "overflow": null,
      "overflow_x": null,
      "overflow_y": null,
      "padding": null,
      "right": null,
      "top": null,
      "visibility": null,
      "width": null
     }
    },
    "25282388267e4fa4aaa08e91e9f7d077": {
     "model_module": "@jupyter-widgets/base",
     "model_name": "LayoutModel",
     "state": {
      "_model_module": "@jupyter-widgets/base",
      "_model_module_version": "1.2.0",
      "_model_name": "LayoutModel",
      "_view_count": null,
      "_view_module": "@jupyter-widgets/base",
      "_view_module_version": "1.2.0",
      "_view_name": "LayoutView",
      "align_content": null,
      "align_items": null,
      "align_self": null,
      "border": null,
      "bottom": null,
      "display": null,
      "flex": null,
      "flex_flow": null,
      "grid_area": null,
      "grid_auto_columns": null,
      "grid_auto_flow": null,
      "grid_auto_rows": null,
      "grid_column": null,
      "grid_gap": null,
      "grid_row": null,
      "grid_template_areas": null,
      "grid_template_columns": null,
      "grid_template_rows": null,
      "height": null,
      "justify_content": null,
      "justify_items": null,
      "left": null,
      "margin": null,
      "max_height": null,
      "max_width": null,
      "min_height": null,
      "min_width": null,
      "object_fit": null,
      "object_position": null,
      "order": null,
      "overflow": null,
      "overflow_x": null,
      "overflow_y": null,
      "padding": null,
      "right": null,
      "top": null,
      "visibility": null,
      "width": null
     }
    },
    "559a2db6deaa470682a58a2822e2f39a": {
     "model_module": "@jupyter-widgets/controls",
     "model_name": "DescriptionStyleModel",
     "state": {
      "_model_module": "@jupyter-widgets/controls",
      "_model_module_version": "1.5.0",
      "_model_name": "DescriptionStyleModel",
      "_view_count": null,
      "_view_module": "@jupyter-widgets/base",
      "_view_module_version": "1.2.0",
      "_view_name": "StyleView",
      "description_width": ""
     }
    },
    "61660cccb5e94d93b62fc4001005208b": {
     "model_module": "@jupyter-widgets/controls",
     "model_name": "FloatProgressModel",
     "state": {
      "_dom_classes": [],
      "_model_module": "@jupyter-widgets/controls",
      "_model_module_version": "1.5.0",
      "_model_name": "FloatProgressModel",
      "_view_count": null,
      "_view_module": "@jupyter-widgets/controls",
      "_view_module_version": "1.5.0",
      "_view_name": "ProgressView",
      "bar_style": "success",
      "description": "100%",
      "description_tooltip": null,
      "layout": "IPY_MODEL_e9724dae232d4d96b03ff88d76c28837",
      "max": 102502400,
      "min": 0,
      "orientation": "horizontal",
      "style": "IPY_MODEL_e67d8499f6dc4db89763d9deeb491134",
      "value": 102502400
     }
    },
    "8d780500889547a1828b298be43ca73b": {
     "model_module": "@jupyter-widgets/controls",
     "model_name": "HTMLModel",
     "state": {
      "_dom_classes": [],
      "_model_module": "@jupyter-widgets/controls",
      "_model_module_version": "1.5.0",
      "_model_name": "HTMLModel",
      "_view_count": null,
      "_view_module": "@jupyter-widgets/controls",
      "_view_module_version": "1.5.0",
      "_view_name": "HTMLView",
      "description": "",
      "description_tooltip": null,
      "layout": "IPY_MODEL_25282388267e4fa4aaa08e91e9f7d077",
      "placeholder": "​",
      "style": "IPY_MODEL_559a2db6deaa470682a58a2822e2f39a",
      "value": " 97.8M/97.8M [01:02&lt;00:00, 1.65MB/s]"
     }
    },
    "973b41b8d1874c51a6b634f5ed87ca5f": {
     "model_module": "@jupyter-widgets/controls",
     "model_name": "HBoxModel",
     "state": {
      "_dom_classes": [],
      "_model_module": "@jupyter-widgets/controls",
      "_model_module_version": "1.5.0",
      "_model_name": "HBoxModel",
      "_view_count": null,
      "_view_module": "@jupyter-widgets/controls",
      "_view_module_version": "1.5.0",
      "_view_name": "HBoxView",
      "box_style": "",
      "children": [
       "IPY_MODEL_61660cccb5e94d93b62fc4001005208b",
       "IPY_MODEL_8d780500889547a1828b298be43ca73b"
      ],
      "layout": "IPY_MODEL_0dcbd51a9039489795cd0ec9b9c4eb21"
     }
    },
    "e67d8499f6dc4db89763d9deeb491134": {
     "model_module": "@jupyter-widgets/controls",
     "model_name": "ProgressStyleModel",
     "state": {
      "_model_module": "@jupyter-widgets/controls",
      "_model_module_version": "1.5.0",
      "_model_name": "ProgressStyleModel",
      "_view_count": null,
      "_view_module": "@jupyter-widgets/base",
      "_view_module_version": "1.2.0",
      "_view_name": "StyleView",
      "bar_color": null,
      "description_width": "initial"
     }
    },
    "e9724dae232d4d96b03ff88d76c28837": {
     "model_module": "@jupyter-widgets/base",
     "model_name": "LayoutModel",
     "state": {
      "_model_module": "@jupyter-widgets/base",
      "_model_module_version": "1.2.0",
      "_model_name": "LayoutModel",
      "_view_count": null,
      "_view_module": "@jupyter-widgets/base",
      "_view_module_version": "1.2.0",
      "_view_name": "LayoutView",
      "align_content": null,
      "align_items": null,
      "align_self": null,
      "border": null,
      "bottom": null,
      "display": null,
      "flex": null,
      "flex_flow": null,
      "grid_area": null,
      "grid_auto_columns": null,
      "grid_auto_flow": null,
      "grid_auto_rows": null,
      "grid_column": null,
      "grid_gap": null,
      "grid_row": null,
      "grid_template_areas": null,
      "grid_template_columns": null,
      "grid_template_rows": null,
      "height": null,
      "justify_content": null,
      "justify_items": null,
      "left": null,
      "margin": null,
      "max_height": null,
      "max_width": null,
      "min_height": null,
      "min_width": null,
      "object_fit": null,
      "object_position": null,
      "order": null,
      "overflow": null,
      "overflow_x": null,
      "overflow_y": null,
      "padding": null,
      "right": null,
      "top": null,
      "visibility": null,
      "width": null
     }
    }
   }
  }
 },
 "nbformat": 4,
 "nbformat_minor": 4
}

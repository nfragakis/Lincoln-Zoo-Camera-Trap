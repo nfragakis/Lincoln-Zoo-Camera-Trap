{
 "cells": [
  {
   "cell_type": "code",
   "execution_count": 2,
   "metadata": {
    "colab": {
     "base_uri": "https://localhost:8080/"
    },
    "id": "GUQM7hUEdOD-",
    "outputId": "dd7f3f14-89dc-4a14-b03a-489911923d85"
   },
   "outputs": [
    {
     "name": "stdout",
     "output_type": "stream",
     "text": [
      "Mounted at /content/drive\n"
     ]
    }
   ],
   "source": [
    "from google.colab import drive\n",
    "drive.mount('/content/drive')"
   ]
  },
  {
   "cell_type": "code",
   "execution_count": 3,
   "metadata": {
    "colab": {
     "base_uri": "https://localhost:8080/"
    },
    "id": "6puqBJg2fITe",
    "outputId": "3a5aa6bc-a47b-4a51-e309-46c2dcfa6ea7"
   },
   "outputs": [
    {
     "name": "stdout",
     "output_type": "stream",
     "text": [
      "/content/drive/MyDrive/DePaul Research\n"
     ]
    }
   ],
   "source": [
    "%cd drive/MyDrive/DePaul\\ Research"
   ]
  },
  {
   "cell_type": "code",
   "execution_count": 2,
   "metadata": {
    "id": "Lk6xpKOPvVi-"
   },
   "outputs": [],
   "source": [
    "import json\n",
    "import torch\n",
    "import os\n",
    "import torchvision\n",
    "import pandas as pd\n",
    "import numpy as np\n",
    "from sklearn.preprocessing import LabelEncoder\n",
    "from PIL import Image\n",
    "from torchvision.models.detection.faster_rcnn import FastRCNNPredictor\n",
    "from PIL import ImageDraw\n",
    "from sklearn.metrics import classification_report\n",
    "from tqdm import tqdm\n",
    "\n",
    "from utils.data_utils import *\n",
    "from engine import train_one_epoch, evaluate\n",
    "import utils\n",
    "import transforms as T"
   ]
  },
  {
   "cell_type": "markdown",
   "metadata": {},
   "source": [
    "## Data Imports\n",
    "- Annotation csv's\n",
    "    - Annotation files created from AnimalDetector.ipynb\n",
    "    - Loosely annotated objects in images with following labels\n",
    "        - Animal, Human, Vehicle\n",
    "- Labelled Classification File\n",
    "    - Provided by Lincoln Zoo\n",
    "    - Contains labels for each image with following classes (no bounding boxes)\n",
    "    \n",
    "``` json\n",
    "label_encoding = {\n",
    "    0  : 'bird',\n",
    "    1  : 'cat', \n",
    "    2  : 'coyote',\n",
    "    3  : 'dog',\n",
    "    4  : 'e. cottontail',\n",
    "    5  : 'empty',\n",
    "    6  : 'human',\n",
    "    7  : 'lawn mower',\n",
    "    8  : 'raccoon',\n",
    "    9  : 'rat',\n",
    "    10 : 'squirrel',\n",
    "    11 : 'striped skunk',\n",
    "    12 : 'v. opossum',\n",
    "    13 : 'w. t. deer'\n",
    "}\n",
    "```"
   ]
  },
  {
   "cell_type": "code",
   "execution_count": 5,
   "metadata": {
    "id": "cUYNqezCfKQ5"
   },
   "outputs": [],
   "source": [
    "with open('./data/annotations/D.json', 'rb') as f:\n",
    "    d_detections = json.load(f)\n",
    "\n",
    "with open('./data/annotations/D.json', 'rb') as f:\n",
    "    j_detections = json.load(f)\n",
    "\n",
    "with open('./data/annotations/D.json', 'rb') as f:\n",
    "    r_detections = json.load(f)\n",
    "\n",
    "with open('./data/annotations/D.json', 'rb') as f:\n",
    "    s_detections = json.load(f)"
   ]
  },
  {
   "cell_type": "code",
   "execution_count": 6,
   "metadata": {
    "id": "cYxaoaJQfLpZ"
   },
   "outputs": [],
   "source": [
    "labels = d_detections['detection_categories']\n",
    "images = d_detections['images'] + j_detections['images'] + r_detections['images'] + s_detections['images']"
   ]
  },
  {
   "cell_type": "code",
   "execution_count": 8,
   "metadata": {
    "id": "2puhDk05fyny"
   },
   "outputs": [],
   "source": [
    "df = pd.read_csv('updated_2018_detections')"
   ]
  },
  {
   "cell_type": "code",
   "execution_count": 11,
   "metadata": {
    "id": "JkN8ETBvQ_W8"
   },
   "outputs": [],
   "source": [
    "sample = df[df['Directory'].str.contains('D02')]"
   ]
  },
  {
   "cell_type": "code",
   "execution_count": 13,
   "metadata": {
    "id": "NOHCTStgGMSO"
   },
   "outputs": [],
   "source": [
    "# Create statified samples to get balanced representation of all classes\n",
    "strat_sample = stratify_sample(df, 500)\n",
    "sample_supplement = strat_sample[strat_sample['ShortName'].isin(['bird', 'cat', 'striped skunk', 'rat', 'v. opossum', 'w. t. deer'])]\n",
    "\n",
    "final_sample = sample.append(sample_supplement)"
   ]
  },
  {
   "cell_type": "code",
   "execution_count": 15,
   "metadata": {
    "colab": {
     "base_uri": "https://localhost:8080/"
    },
    "id": "6Wu4yYqMGDcH",
    "outputId": "23ab107e-78ab-4e20-e3f8-fba6e75aca5a"
   },
   "outputs": [
    {
     "data": {
      "text/plain": [
       "empty            5039\n",
       "human             979\n",
       "bird              592\n",
       "v. opossum        507\n",
       "w. t. deer        500\n",
       "squirrel          454\n",
       "dog               395\n",
       "raccoon           314\n",
       "striped skunk     211\n",
       "cat               207\n",
       "rat               146\n",
       "e. cottontail     142\n",
       "coyote              8\n",
       "lawn mower          1\n",
       "Name: ShortName, dtype: int64"
      ]
     },
     "execution_count": 15,
     "metadata": {
      "tags": []
     },
     "output_type": "execute_result"
    }
   ],
   "source": [
    "final_sample['ShortName'].value_counts()"
   ]
  },
  {
   "cell_type": "code",
   "execution_count": null,
   "metadata": {},
   "outputs": [],
   "source": [
    "im_dict, le = create_image_dict(images, final_sample)"
   ]
  },
  {
   "cell_type": "code",
   "execution_count": 21,
   "metadata": {
    "colab": {
     "base_uri": "https://localhost:8080/"
    },
    "id": "9NdM6NAsvWQY",
    "outputId": "375fa5e7-1062-4b5d-9830-fc3e7bb8290a"
   },
   "outputs": [
    {
     "data": {
      "text/plain": [
       "(<PIL.Image.Image image mode=RGB size=760x512 at 0x7FD5AA6DE150>,\n",
       " {'area': tensor([4305.9658]),\n",
       "  'boxes': tensor([[381.3680, 312.3712, 439.6904, 386.2016]]),\n",
       "  'image_id': tensor([0]),\n",
       "  'iscrowd': tensor([0]),\n",
       "  'labels': tensor([4])})"
      ]
     },
     "execution_count": 21,
     "metadata": {
      "tags": []
     },
     "output_type": "execute_result"
    }
   ],
   "source": [
    "dataset = WildlifeDataLoader(im_dict)\n",
    "dataset[0]"
   ]
  },
  {
   "cell_type": "markdown",
   "metadata": {},
   "source": [
    "### Begin Training Model\n",
    "- Create DataLoaders\n",
    "- Instantiate Model"
   ]
  },
  {
   "cell_type": "code",
   "execution_count": 24,
   "metadata": {
    "id": "HtitkYju_HMN"
   },
   "outputs": [],
   "source": [
    "# use our dataset and defined transformations\n",
    "dataset = WildlifeDataLoader(im_dict, get_transform(train=False))\n",
    "\n",
    "split_ind = lambda train_percent: int(len(dataset) * train_percent)\n",
    "\n",
    "# split the dataset in train and test set\n",
    "torch.manual_seed(1)\n",
    "indices = torch.randperm(len(dataset)).tolist()\n",
    "\n",
    "dataset_train = torch.utils.data.Subset(dataset, indices[:split_ind(0.9)])\n",
    "dataset_test = torch.utils.data.Subset(dataset, indices[split_ind(0.9):])\n",
    "\n",
    "# define training and validation data loaders\n",
    "data_loader = torch.utils.data.DataLoader(\n",
    "    dataset, batch_size=8, shuffle=True, num_workers=2,\n",
    "    collate_fn=utils.collate_fn)\n",
    "\n",
    "data_loader_test = torch.utils.data.DataLoader(\n",
    "    dataset_test, batch_size=2, shuffle=False, num_workers=0,\n",
    "    collate_fn=utils.collate_fn)"
   ]
  },
  {
   "cell_type": "code",
   "execution_count": null,
   "metadata": {
    "colab": {
     "base_uri": "https://localhost:8080/"
    },
    "id": "MJHoFVg5_T8A",
    "outputId": "df832e3e-0ee1-4257-c47a-4d1a2b097721"
   },
   "outputs": [],
   "source": [
    "# path to checkpoint state_dict\n",
    "checkpoint = None\n",
    "\n",
    "device = torch.device('cuda') if torch.cuda.is_available() else torch.device('cpu')\n",
    "num_classes = 14\n",
    "\n",
    "if checkpoint:\n",
    "    model = get_instance_segmentation_model(num_classes, pretrained=False)\n",
    "    model.load_state_dict(torch.load(checkpoint))\n",
    "else:\n",
    "    model = get_instance_segmentation_model(num_classes)\n",
    "model.to(device)\n",
    "\n",
    "params = [p for p in model.parameters() if p.requires_grad]\n",
    "optimizer = torch.optim.Adam(params, lr=0.0001)\n",
    "\n",
    "\n",
    "num_epochs = 25\n",
    "for epoch in range(num_epochs):\n",
    "    train_one_epoch(model, optimizer, data_loader, device, epoch, print_freq=50)\n",
    "    evaluate(model, data_loader_test, device=device)"
   ]
  },
  {
   "cell_type": "code",
   "execution_count": 30,
   "metadata": {
    "colab": {
     "base_uri": "https://localhost:8080/"
    },
    "id": "Q-ct6j26Vh8d",
    "outputId": "49e1a0d7-aead-4914-e8ef-89e3cc93054e"
   },
   "outputs": [
    {
     "name": "stdout",
     "output_type": "stream",
     "text": [
      "model saved\n"
     ]
    }
   ],
   "source": [
    "torch.save(model.state_dict(), './5_16.pth')\n",
    "print('model saved')"
   ]
  },
  {
   "cell_type": "code",
   "execution_count": 26,
   "metadata": {
    "id": "ggfTavyWvYRl"
   },
   "outputs": [],
   "source": [
    "def evaluate_performance(dataframe, threshold=0.5):\n",
    "    preds = []\n",
    "    actual = []\n",
    "    ims = []\n",
    "    confidence = []\n",
    "\n",
    "    model.eval()\n",
    "    for dir, act_lab in tqdm(dataframe[['Directory','ShortName']].values):\n",
    "        with torch.no_grad():\n",
    "            prediction = model([image_loader(f'./images/{dir}')])\n",
    "\n",
    "        # catch instances w/ no predictions\n",
    "        try:\n",
    "            if prediction[0]['scores'][0] > threshold:\n",
    "                pred_label = le.inverse_transform([prediction[0]['labels'][0].to('cpu')])[0]\n",
    "                preds.append(pred_label)\n",
    "                confidence.append(prediction[0]['scores'][0])\n",
    "            else:\n",
    "                preds.append('empty')\n",
    "                confidence.append(prediction[0]['scores'][0])\n",
    "\n",
    "        except:\n",
    "            preds.append('empty')\n",
    "            confidence.append(0)\n",
    "            \n",
    "        actual.append(act_lab)\n",
    "        ims.append(dir)\n",
    "\n",
    "    return preds, actual, ims, confidence"
   ]
  },
  {
   "cell_type": "code",
   "execution_count": 27,
   "metadata": {
    "colab": {
     "base_uri": "https://localhost:8080/"
    },
    "id": "syzZo4DZxiYG",
    "outputId": "977ff984-24f1-4d6c-d253-3070b7d54dab"
   },
   "outputs": [
    {
     "name": "stderr",
     "output_type": "stream",
     "text": [
      "100%|██████████| 10000/10000 [1:17:22<00:00,  2.15it/s]\n"
     ]
    }
   ],
   "source": [
    "preds, actual, ims, confidence = evaluate_performance(df.sample(10000))"
   ]
  },
  {
   "cell_type": "code",
   "execution_count": 28,
   "metadata": {
    "id": "23_scmgiwBq_"
   },
   "outputs": [],
   "source": [
    "results = pd.DataFrame([ims, preds, actual, confidence]).T\n",
    "results.columns = ['Image', 'Prediction', 'Actual', 'Confidence']"
   ]
  }
 ],
 "metadata": {
  "accelerator": "GPU",
  "colab": {
   "collapsed_sections": [],
   "name": "Train_Torch_FastRCNN.ipynb",
   "provenance": []
  },
  "kernelspec": {
   "display_name": "Python 3",
   "language": "python",
   "name": "python3"
  },
  "language_info": {
   "codemirror_mode": {
    "name": "ipython",
    "version": 3
   },
   "file_extension": ".py",
   "mimetype": "text/x-python",
   "name": "python",
   "nbconvert_exporter": "python",
   "pygments_lexer": "ipython3",
   "version": "3.7.3"
  },
  "widgets": {
   "application/vnd.jupyter.widget-state+json": {
    "03f4938e5bd7439ab78d88febc41808e": {
     "model_module": "@jupyter-widgets/controls",
     "model_name": "HBoxModel",
     "state": {
      "_dom_classes": [],
      "_model_module": "@jupyter-widgets/controls",
      "_model_module_version": "1.5.0",
      "_model_name": "HBoxModel",
      "_view_count": null,
      "_view_module": "@jupyter-widgets/controls",
      "_view_module_version": "1.5.0",
      "_view_name": "HBoxView",
      "box_style": "",
      "children": [
       "IPY_MODEL_4b787f7b6e5440d5888d091a972bf856",
       "IPY_MODEL_6a7ac56dfc1344bbb7cf26612b7fcdb7"
      ],
      "layout": "IPY_MODEL_466cade58d24477eae8a52eaf79a1e87"
     }
    },
    "112879f0b3ae4fc1b037406baaeff3e5": {
     "model_module": "@jupyter-widgets/base",
     "model_name": "LayoutModel",
     "state": {
      "_model_module": "@jupyter-widgets/base",
      "_model_module_version": "1.2.0",
      "_model_name": "LayoutModel",
      "_view_count": null,
      "_view_module": "@jupyter-widgets/base",
      "_view_module_version": "1.2.0",
      "_view_name": "LayoutView",
      "align_content": null,
      "align_items": null,
      "align_self": null,
      "border": null,
      "bottom": null,
      "display": null,
      "flex": null,
      "flex_flow": null,
      "grid_area": null,
      "grid_auto_columns": null,
      "grid_auto_flow": null,
      "grid_auto_rows": null,
      "grid_column": null,
      "grid_gap": null,
      "grid_row": null,
      "grid_template_areas": null,
      "grid_template_columns": null,
      "grid_template_rows": null,
      "height": null,
      "justify_content": null,
      "justify_items": null,
      "left": null,
      "margin": null,
      "max_height": null,
      "max_width": null,
      "min_height": null,
      "min_width": null,
      "object_fit": null,
      "object_position": null,
      "order": null,
      "overflow": null,
      "overflow_x": null,
      "overflow_y": null,
      "padding": null,
      "right": null,
      "top": null,
      "visibility": null,
      "width": null
     }
    },
    "22a46e4f2caa43ab8b0a34fb52ec64ba": {
     "model_module": "@jupyter-widgets/base",
     "model_name": "LayoutModel",
     "state": {
      "_model_module": "@jupyter-widgets/base",
      "_model_module_version": "1.2.0",
      "_model_name": "LayoutModel",
      "_view_count": null,
      "_view_module": "@jupyter-widgets/base",
      "_view_module_version": "1.2.0",
      "_view_name": "LayoutView",
      "align_content": null,
      "align_items": null,
      "align_self": null,
      "border": null,
      "bottom": null,
      "display": null,
      "flex": null,
      "flex_flow": null,
      "grid_area": null,
      "grid_auto_columns": null,
      "grid_auto_flow": null,
      "grid_auto_rows": null,
      "grid_column": null,
      "grid_gap": null,
      "grid_row": null,
      "grid_template_areas": null,
      "grid_template_columns": null,
      "grid_template_rows": null,
      "height": null,
      "justify_content": null,
      "justify_items": null,
      "left": null,
      "margin": null,
      "max_height": null,
      "max_width": null,
      "min_height": null,
      "min_width": null,
      "object_fit": null,
      "object_position": null,
      "order": null,
      "overflow": null,
      "overflow_x": null,
      "overflow_y": null,
      "padding": null,
      "right": null,
      "top": null,
      "visibility": null,
      "width": null
     }
    },
    "466cade58d24477eae8a52eaf79a1e87": {
     "model_module": "@jupyter-widgets/base",
     "model_name": "LayoutModel",
     "state": {
      "_model_module": "@jupyter-widgets/base",
      "_model_module_version": "1.2.0",
      "_model_name": "LayoutModel",
      "_view_count": null,
      "_view_module": "@jupyter-widgets/base",
      "_view_module_version": "1.2.0",
      "_view_name": "LayoutView",
      "align_content": null,
      "align_items": null,
      "align_self": null,
      "border": null,
      "bottom": null,
      "display": null,
      "flex": null,
      "flex_flow": null,
      "grid_area": null,
      "grid_auto_columns": null,
      "grid_auto_flow": null,
      "grid_auto_rows": null,
      "grid_column": null,
      "grid_gap": null,
      "grid_row": null,
      "grid_template_areas": null,
      "grid_template_columns": null,
      "grid_template_rows": null,
      "height": null,
      "justify_content": null,
      "justify_items": null,
      "left": null,
      "margin": null,
      "max_height": null,
      "max_width": null,
      "min_height": null,
      "min_width": null,
      "object_fit": null,
      "object_position": null,
      "order": null,
      "overflow": null,
      "overflow_x": null,
      "overflow_y": null,
      "padding": null,
      "right": null,
      "top": null,
      "visibility": null,
      "width": null
     }
    },
    "4b787f7b6e5440d5888d091a972bf856": {
     "model_module": "@jupyter-widgets/controls",
     "model_name": "FloatProgressModel",
     "state": {
      "_dom_classes": [],
      "_model_module": "@jupyter-widgets/controls",
      "_model_module_version": "1.5.0",
      "_model_name": "FloatProgressModel",
      "_view_count": null,
      "_view_module": "@jupyter-widgets/controls",
      "_view_module_version": "1.5.0",
      "_view_name": "ProgressView",
      "bar_style": "success",
      "description": "100%",
      "description_tooltip": null,
      "layout": "IPY_MODEL_112879f0b3ae4fc1b037406baaeff3e5",
      "max": 102502400,
      "min": 0,
      "orientation": "horizontal",
      "style": "IPY_MODEL_885f111a037d4dd2894483fbbda79c57",
      "value": 102502400
     }
    },
    "6a7ac56dfc1344bbb7cf26612b7fcdb7": {
     "model_module": "@jupyter-widgets/controls",
     "model_name": "HTMLModel",
     "state": {
      "_dom_classes": [],
      "_model_module": "@jupyter-widgets/controls",
      "_model_module_version": "1.5.0",
      "_model_name": "HTMLModel",
      "_view_count": null,
      "_view_module": "@jupyter-widgets/controls",
      "_view_module_version": "1.5.0",
      "_view_name": "HTMLView",
      "description": "",
      "description_tooltip": null,
      "layout": "IPY_MODEL_22a46e4f2caa43ab8b0a34fb52ec64ba",
      "placeholder": "​",
      "style": "IPY_MODEL_e364374871974e9d80c8a08e37d0a4ca",
      "value": " 97.8M/97.8M [00:01&lt;00:00, 79.0MB/s]"
     }
    },
    "885f111a037d4dd2894483fbbda79c57": {
     "model_module": "@jupyter-widgets/controls",
     "model_name": "ProgressStyleModel",
     "state": {
      "_model_module": "@jupyter-widgets/controls",
      "_model_module_version": "1.5.0",
      "_model_name": "ProgressStyleModel",
      "_view_count": null,
      "_view_module": "@jupyter-widgets/base",
      "_view_module_version": "1.2.0",
      "_view_name": "StyleView",
      "bar_color": null,
      "description_width": "initial"
     }
    },
    "e364374871974e9d80c8a08e37d0a4ca": {
     "model_module": "@jupyter-widgets/controls",
     "model_name": "DescriptionStyleModel",
     "state": {
      "_model_module": "@jupyter-widgets/controls",
      "_model_module_version": "1.5.0",
      "_model_name": "DescriptionStyleModel",
      "_view_count": null,
      "_view_module": "@jupyter-widgets/base",
      "_view_module_version": "1.2.0",
      "_view_name": "StyleView",
      "description_width": ""
     }
    }
   }
  }
 },
 "nbformat": 4,
 "nbformat_minor": 4
}
